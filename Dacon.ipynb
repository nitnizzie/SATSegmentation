{
  "cells": [
    {
      "cell_type": "code",
      "execution_count": null,
      "metadata": {
        "id": "ScYVQU7K8A2v"
      },
      "outputs": [],
      "source": [
        "NGROK_TOKEN = ''\n",
        "PASSWORD = 'mypassword'\n",
        "GITHUB_USER_NAME = ''\n",
        "GITHUB_EMAIL = ''\n",
        "GITHUB_ACCESS_TOKEN = ''\n",
        "DATA_DIR = '/gdrive/Dacon/datasets/'"
      ]
    },
    {
      "cell_type": "code",
      "execution_count": null,
      "metadata": {
        "colab": {
          "base_uri": "https://localhost:8080/"
        },
        "id": "DauPEx27_0Ju",
        "outputId": "2c9e5439-aa7f-4c7e-f4b7-ecc58b2c6852"
      },
      "outputs": [],
      "source": [
        "# git config 설정\n",
        "!git config --global user.name $GITHUB_USER_NAME\n",
        "!git config --global user.email $GITHUB_EMAIL\n",
        "\n",
        "!git clone https://$GITHUB_ACCESS_TOKEN@github.com/$GITHUB_USER_NAME/SATSegmentation.git"
      ]
    },
    {
      "cell_type": "code",
      "execution_count": null,
      "metadata": {
        "colab": {
          "base_uri": "https://localhost:8080/"
        },
        "id": "ItC3rCLk8Ow0",
        "outputId": "0323441b-b286-41a7-96bd-ccf76d638ac7"
      },
      "outputs": [],
      "source": [
        "from google.colab import drive\n",
        "drive.mount('/gdrive')"
      ]
    },
    {
      "cell_type": "code",
      "execution_count": null,
      "metadata": {
        "colab": {
          "base_uri": "https://localhost:8080/"
        },
        "id": "wvgrbeeL8rCn",
        "outputId": "1f762c35-82b0-465a-e9d7-ba3c57393cfd"
      },
      "outputs": [],
      "source": [
        "!pip install colab-ssh\n",
        "from colab_ssh import launch_ssh\n",
        "launch_ssh(NGROK_TOKEN, PASSWORD)"
      ]
    }
  ],
  "metadata": {
    "colab": {
      "provenance": []
    },
    "kernelspec": {
      "display_name": "Python 3",
      "name": "python3"
    },
    "language_info": {
      "name": "python"
    }
  },
  "nbformat": 4,
  "nbformat_minor": 0
}
